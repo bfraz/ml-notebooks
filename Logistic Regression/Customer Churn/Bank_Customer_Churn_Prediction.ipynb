{
  "cells": [
    {
      "cell_type": "markdown",
      "metadata": {
        "colab_type": "text",
        "id": "Vm_TmzL2rvqq"
      },
      "source": [
        "# Classification model to predict bank customer churn"
      ]
    },
    {
      "cell_type": "markdown",
      "metadata": {
        "colab_type": "text",
        "id": "dRwqkLSQxTjP"
      },
      "source": [
        "### About the dataset:\n",
        "\n",
        "The dataset is from the Kaggle website (https://www.kaggle.com/datasets/gauravtopre/bank-customer-churn-dataset) and contains the customer data of account holders at ABC Multinational Bank. The classification goal is to predict the loss of customer account holders for any reason.\n",
        "\n",
        "It includes over 10,000 records and 12 attributes.\n"
      ]
    },
    {
      "cell_type": "markdown",
      "metadata": {
        "colab_type": "text",
        "id": "IQjtOA4eoAAO"
      },
      "source": [
        "### Objective: To build a classification model that predicts churn for an account holder. (note the target column to predict is 'churn') \n",
        "\n",
        "### We are going to perform the following steps: \n",
        "\n",
        "1. Import Libraries\n",
        "2. Read in Dataset\n",
        "3. Data Inspect and Cleaning\n",
        "4. Exploratory Data Analysis\n",
        "5. Feature Splitting and Scaling\n",
        "6. Predictive Modeling (Logistic Regression)\n"
      ]
    },
    {
      "cell_type": "markdown",
      "metadata": {
        "colab_type": "text",
        "id": "mLhl31GfrS90"
      },
      "source": [
        "# Importing Libraries"
      ]
    },
    {
      "cell_type": "code",
      "execution_count": 13,
      "metadata": {
        "colab": {},
        "colab_type": "code",
        "id": "S-WNYYiErIfd"
      },
      "outputs": [],
      "source": [
        "#!python3 -m pip install pandas numpy matplotlib seaborn scikit-learn\n",
        "\n",
        "# Data Loading and Numerical Operations\n",
        "import pandas as pd\n",
        "# Data Visualizations\n",
        "import matplotlib.pyplot as plt\n",
        "%matplotlib inline\n",
        "import seaborn as sns\n",
        "# Data Splitting\n",
        "from sklearn.model_selection import train_test_split\n",
        "# Data Scaling\n",
        "from sklearn.preprocessing import MinMaxScaler\n",
        "# Data Modeling\n",
        "from sklearn.linear_model import LogisticRegression\n",
        "\n",
        "from sklearn.metrics import confusion_matrix, accuracy_score, classification_report"
      ]
    },
    {
      "cell_type": "markdown",
      "metadata": {
        "colab_type": "text",
        "id": "312jDtRbrX0V"
      },
      "source": [
        "# Read in Dataset"
      ]
    },
    {
      "cell_type": "code",
      "execution_count": 14,
      "metadata": {
        "colab": {
          "base_uri": "https://localhost:8080/",
          "height": 0
        },
        "colab_type": "code",
        "id": "pIfuIirhuwgH",
        "outputId": "81323349-0f0a-46a1-fd4e-35e9c49284c3"
      },
      "outputs": [
        {
          "data": {
            "text/plain": [
              "(10000, 12)"
            ]
          },
          "execution_count": 14,
          "metadata": {},
          "output_type": "execute_result"
        }
      ],
      "source": [
        "data = pd.read_csv(\"Bank_Customer_Churn_Prediction.csv\") # Reading and converting the data into a pandas dataframe\n",
        "data.shape # Calculating the dimensions of the dataset"
      ]
    },
    {
      "cell_type": "code",
      "execution_count": 15,
      "metadata": {
        "colab": {
          "base_uri": "https://localhost:8080/",
          "height": 0
        },
        "colab_type": "code",
        "id": "C456njpsu6fb",
        "outputId": "d43e5f23-f9cc-4891-89fc-97958a00c77c"
      },
      "outputs": [
        {
          "data": {
            "text/html": [
              "<div>\n",
              "<style scoped>\n",
              "    .dataframe tbody tr th:only-of-type {\n",
              "        vertical-align: middle;\n",
              "    }\n",
              "\n",
              "    .dataframe tbody tr th {\n",
              "        vertical-align: top;\n",
              "    }\n",
              "\n",
              "    .dataframe thead th {\n",
              "        text-align: right;\n",
              "    }\n",
              "</style>\n",
              "<table border=\"1\" class=\"dataframe\">\n",
              "  <thead>\n",
              "    <tr style=\"text-align: right;\">\n",
              "      <th></th>\n",
              "      <th>customer_id</th>\n",
              "      <th>credit_score</th>\n",
              "      <th>country</th>\n",
              "      <th>gender</th>\n",
              "      <th>age</th>\n",
              "      <th>tenure</th>\n",
              "      <th>balance</th>\n",
              "      <th>products_number</th>\n",
              "      <th>credit_card</th>\n",
              "      <th>active_member</th>\n",
              "      <th>estimated_salary</th>\n",
              "      <th>churn</th>\n",
              "    </tr>\n",
              "  </thead>\n",
              "  <tbody>\n",
              "    <tr>\n",
              "      <th>0</th>\n",
              "      <td>15634602</td>\n",
              "      <td>619</td>\n",
              "      <td>France</td>\n",
              "      <td>Female</td>\n",
              "      <td>42</td>\n",
              "      <td>2</td>\n",
              "      <td>0.00</td>\n",
              "      <td>1</td>\n",
              "      <td>1</td>\n",
              "      <td>1</td>\n",
              "      <td>101348.88</td>\n",
              "      <td>1</td>\n",
              "    </tr>\n",
              "    <tr>\n",
              "      <th>1</th>\n",
              "      <td>15647311</td>\n",
              "      <td>608</td>\n",
              "      <td>Spain</td>\n",
              "      <td>Female</td>\n",
              "      <td>41</td>\n",
              "      <td>1</td>\n",
              "      <td>83807.86</td>\n",
              "      <td>1</td>\n",
              "      <td>0</td>\n",
              "      <td>1</td>\n",
              "      <td>112542.58</td>\n",
              "      <td>0</td>\n",
              "    </tr>\n",
              "    <tr>\n",
              "      <th>2</th>\n",
              "      <td>15619304</td>\n",
              "      <td>502</td>\n",
              "      <td>France</td>\n",
              "      <td>Female</td>\n",
              "      <td>42</td>\n",
              "      <td>8</td>\n",
              "      <td>159660.80</td>\n",
              "      <td>3</td>\n",
              "      <td>1</td>\n",
              "      <td>0</td>\n",
              "      <td>113931.57</td>\n",
              "      <td>1</td>\n",
              "    </tr>\n",
              "    <tr>\n",
              "      <th>3</th>\n",
              "      <td>15701354</td>\n",
              "      <td>699</td>\n",
              "      <td>France</td>\n",
              "      <td>Female</td>\n",
              "      <td>39</td>\n",
              "      <td>1</td>\n",
              "      <td>0.00</td>\n",
              "      <td>2</td>\n",
              "      <td>0</td>\n",
              "      <td>0</td>\n",
              "      <td>93826.63</td>\n",
              "      <td>0</td>\n",
              "    </tr>\n",
              "    <tr>\n",
              "      <th>4</th>\n",
              "      <td>15737888</td>\n",
              "      <td>850</td>\n",
              "      <td>Spain</td>\n",
              "      <td>Female</td>\n",
              "      <td>43</td>\n",
              "      <td>2</td>\n",
              "      <td>125510.82</td>\n",
              "      <td>1</td>\n",
              "      <td>1</td>\n",
              "      <td>1</td>\n",
              "      <td>79084.10</td>\n",
              "      <td>0</td>\n",
              "    </tr>\n",
              "    <tr>\n",
              "      <th>5</th>\n",
              "      <td>15574012</td>\n",
              "      <td>645</td>\n",
              "      <td>Spain</td>\n",
              "      <td>Male</td>\n",
              "      <td>44</td>\n",
              "      <td>8</td>\n",
              "      <td>113755.78</td>\n",
              "      <td>2</td>\n",
              "      <td>1</td>\n",
              "      <td>0</td>\n",
              "      <td>149756.71</td>\n",
              "      <td>1</td>\n",
              "    </tr>\n",
              "    <tr>\n",
              "      <th>6</th>\n",
              "      <td>15592531</td>\n",
              "      <td>822</td>\n",
              "      <td>France</td>\n",
              "      <td>Male</td>\n",
              "      <td>50</td>\n",
              "      <td>7</td>\n",
              "      <td>0.00</td>\n",
              "      <td>2</td>\n",
              "      <td>1</td>\n",
              "      <td>1</td>\n",
              "      <td>10062.80</td>\n",
              "      <td>0</td>\n",
              "    </tr>\n",
              "    <tr>\n",
              "      <th>7</th>\n",
              "      <td>15656148</td>\n",
              "      <td>376</td>\n",
              "      <td>Germany</td>\n",
              "      <td>Female</td>\n",
              "      <td>29</td>\n",
              "      <td>4</td>\n",
              "      <td>115046.74</td>\n",
              "      <td>4</td>\n",
              "      <td>1</td>\n",
              "      <td>0</td>\n",
              "      <td>119346.88</td>\n",
              "      <td>1</td>\n",
              "    </tr>\n",
              "    <tr>\n",
              "      <th>8</th>\n",
              "      <td>15792365</td>\n",
              "      <td>501</td>\n",
              "      <td>France</td>\n",
              "      <td>Male</td>\n",
              "      <td>44</td>\n",
              "      <td>4</td>\n",
              "      <td>142051.07</td>\n",
              "      <td>2</td>\n",
              "      <td>0</td>\n",
              "      <td>1</td>\n",
              "      <td>74940.50</td>\n",
              "      <td>0</td>\n",
              "    </tr>\n",
              "    <tr>\n",
              "      <th>9</th>\n",
              "      <td>15592389</td>\n",
              "      <td>684</td>\n",
              "      <td>France</td>\n",
              "      <td>Male</td>\n",
              "      <td>27</td>\n",
              "      <td>2</td>\n",
              "      <td>134603.88</td>\n",
              "      <td>1</td>\n",
              "      <td>1</td>\n",
              "      <td>1</td>\n",
              "      <td>71725.73</td>\n",
              "      <td>0</td>\n",
              "    </tr>\n",
              "  </tbody>\n",
              "</table>\n",
              "</div>"
            ],
            "text/plain": [
              "   customer_id  credit_score  country  gender  age  tenure    balance  \\\n",
              "0     15634602           619   France  Female   42       2       0.00   \n",
              "1     15647311           608    Spain  Female   41       1   83807.86   \n",
              "2     15619304           502   France  Female   42       8  159660.80   \n",
              "3     15701354           699   France  Female   39       1       0.00   \n",
              "4     15737888           850    Spain  Female   43       2  125510.82   \n",
              "5     15574012           645    Spain    Male   44       8  113755.78   \n",
              "6     15592531           822   France    Male   50       7       0.00   \n",
              "7     15656148           376  Germany  Female   29       4  115046.74   \n",
              "8     15792365           501   France    Male   44       4  142051.07   \n",
              "9     15592389           684   France    Male   27       2  134603.88   \n",
              "\n",
              "   products_number  credit_card  active_member  estimated_salary  churn  \n",
              "0                1            1              1         101348.88      1  \n",
              "1                1            0              1         112542.58      0  \n",
              "2                3            1              0         113931.57      1  \n",
              "3                2            0              0          93826.63      0  \n",
              "4                1            1              1          79084.10      0  \n",
              "5                2            1              0         149756.71      1  \n",
              "6                2            1              1          10062.80      0  \n",
              "7                4            1              0         119346.88      1  \n",
              "8                2            0              1          74940.50      0  \n",
              "9                1            1              1          71725.73      0  "
            ]
          },
          "execution_count": 15,
          "metadata": {},
          "output_type": "execute_result"
        }
      ],
      "source": [
        "data.head(10)"
      ]
    },
    {
      "cell_type": "code",
      "execution_count": 16,
      "metadata": {
        "colab": {
          "base_uri": "https://localhost:8080/",
          "height": 0
        },
        "colab_type": "code",
        "id": "I9mslxuhu-h8",
        "outputId": "e488f00e-178b-4ac9-c096-34486ac6f8ce"
      },
      "outputs": [
        {
          "name": "stdout",
          "output_type": "stream",
          "text": [
            "<class 'pandas.core.frame.DataFrame'>\n",
            "RangeIndex: 10000 entries, 0 to 9999\n",
            "Data columns (total 12 columns):\n",
            " #   Column            Non-Null Count  Dtype  \n",
            "---  ------            --------------  -----  \n",
            " 0   customer_id       10000 non-null  int64  \n",
            " 1   credit_score      10000 non-null  int64  \n",
            " 2   country           10000 non-null  object \n",
            " 3   gender            10000 non-null  object \n",
            " 4   age               10000 non-null  int64  \n",
            " 5   tenure            10000 non-null  int64  \n",
            " 6   balance           10000 non-null  float64\n",
            " 7   products_number   10000 non-null  int64  \n",
            " 8   credit_card       10000 non-null  int64  \n",
            " 9   active_member     10000 non-null  int64  \n",
            " 10  estimated_salary  10000 non-null  float64\n",
            " 11  churn             10000 non-null  int64  \n",
            "dtypes: float64(2), int64(8), object(2)\n",
            "memory usage: 937.6+ KB\n"
          ]
        }
      ],
      "source": [
        "data.info()"
      ]
    },
    {
      "cell_type": "markdown",
      "metadata": {
        "colab_type": "text",
        "id": "7tuYGH9dOiPC"
      },
      "source": [
        "Above is an overview of the columns/features. \n",
        "\n",
        "Including feature non-null count and the data types of the dataset.\n",
        "\n",
        "Note that there are two categorical features, 'country' and 'gender'."
      ]
    },
    {
      "cell_type": "markdown",
      "metadata": {
        "colab_type": "text",
        "id": "SZjmspvaxY__"
      },
      "source": [
        "### Attributes:\n",
        "\n",
        "* **customer_id**: customer identifier (unused variable)\n",
        "* **credit_score**: customer's credit score (Continuous)\n",
        "* **country**: \"Spain\", \"France\" or \"Germany\" (Categorical)\n",
        "* **gender**: \"Male\" or \"Female\" (Categorical)\n",
        "* **age**: customer's age (Continuous)\n",
        "* **tenure**: years individual has been bank's customer (Continuous)\n",
        "* **balance**: customer's bank balance (Continuous)\n",
        "* **products_number**: number of bank services customer uses (Continuous)\n",
        "* **credit_card**: if customer has credit card or not (binary: “1” means “Yes”, “0” means “No”)\n",
        "* **active_member**: if customer is active member of bank (binary: “1” means “Yes”, “0” means “No”)\n",
        "* **estimated_salary**: customer's estimated salary (Continuous)\n",
        "* **churn**: (binary: “1” means “Yes”, “0” means “No”) - Target Variable\n"
      ]
    },
    {
      "cell_type": "markdown",
      "metadata": {
        "colab_type": "text",
        "id": "DuFjl_G_NaU8"
      },
      "source": [
        "# Data Inspecting and Cleaning "
      ]
    },
    {
      "cell_type": "code",
      "execution_count": 17,
      "metadata": {
        "colab": {
          "base_uri": "https://localhost:8080/",
          "height": 0
        },
        "colab_type": "code",
        "id": "qgfUGJv8vGHb",
        "outputId": "51db3a71-a5c7-4e5a-e9b2-9673f440e02d"
      },
      "outputs": [
        {
          "data": {
            "text/plain": [
              "customer_id         0\n",
              "credit_score        0\n",
              "country             0\n",
              "gender              0\n",
              "age                 0\n",
              "tenure              0\n",
              "balance             0\n",
              "products_number     0\n",
              "credit_card         0\n",
              "active_member       0\n",
              "estimated_salary    0\n",
              "churn               0\n",
              "dtype: int64"
            ]
          },
          "execution_count": 17,
          "metadata": {},
          "output_type": "execute_result"
        }
      ],
      "source": [
        "data.isnull().sum()"
      ]
    },
    {
      "cell_type": "markdown",
      "metadata": {
        "colab_type": "text",
        "id": "ULmQMWftPH-B"
      },
      "source": [
        "Above confirms that there are no missing values, null values or np.nan present in the dataset."
      ]
    },
    {
      "cell_type": "code",
      "execution_count": 18,
      "metadata": {
        "colab": {
          "base_uri": "https://localhost:8080/",
          "height": 0
        },
        "colab_type": "code",
        "id": "JRiGOs1hv-dZ",
        "outputId": "9994c6ff-d4fe-4cb6-8686-a3782c1ec6b6"
      },
      "outputs": [
        {
          "data": {
            "text/plain": [
              "np.int64(0)"
            ]
          },
          "execution_count": 18,
          "metadata": {},
          "output_type": "execute_result"
        }
      ],
      "source": [
        "data.duplicated().sum()"
      ]
    },
    {
      "cell_type": "markdown",
      "metadata": {
        "colab_type": "text",
        "id": "HtrK4rKOP8CB"
      },
      "source": [
        "Above shows that there are no duplicated values present in the dataset."
      ]
    },
    {
      "cell_type": "code",
      "execution_count": 19,
      "metadata": {},
      "outputs": [
        {
          "name": "stderr",
          "output_type": "stream",
          "text": [
            "/var/folders/9n/1nl68bn16mqd0pkljvxf51qr0000gn/T/ipykernel_159/1449069192.py:1: FutureWarning: Downcasting behavior in `replace` is deprecated and will be removed in a future version. To retain the old behavior, explicitly call `result.infer_objects(copy=False)`. To opt-in to the future behavior, set `pd.set_option('future.no_silent_downcasting', True)`\n",
            "  data['country'] = data['country'].replace({\"France\": 1, \"Spain\": 2, \"Germany\": 3})\n",
            "/var/folders/9n/1nl68bn16mqd0pkljvxf51qr0000gn/T/ipykernel_159/1449069192.py:2: FutureWarning: Downcasting behavior in `replace` is deprecated and will be removed in a future version. To retain the old behavior, explicitly call `result.infer_objects(copy=False)`. To opt-in to the future behavior, set `pd.set_option('future.no_silent_downcasting', True)`\n",
            "  data['gender'] = data['gender'].replace({ \"Male\": 0, \"Female\": 1})\n"
          ]
        }
      ],
      "source": [
        "data['country'] = data['country'].replace({\"France\": 1, \"Spain\": 2, \"Germany\": 3})\n",
        "data['gender'] = data['gender'].replace({ \"Male\": 0, \"Female\": 1})\n",
        "\n",
        "data.drop('customer_id', axis=1, inplace=True)"
      ]
    },
    {
      "cell_type": "markdown",
      "metadata": {},
      "source": [
        "Above the categorical features ('gender' and 'country') are replaced with numerical values.\n",
        "\n",
        "Additionally the 'customer_id' column is removed."
      ]
    },
    {
      "cell_type": "code",
      "execution_count": 20,
      "metadata": {
        "colab": {
          "base_uri": "https://localhost:8080/",
          "height": 0
        },
        "colab_type": "code",
        "id": "5zbWcBxM4O2A",
        "outputId": "75e729a4-580d-4e41-c68b-0a50c55d80d1"
      },
      "outputs": [
        {
          "data": {
            "image/png": "[encoded data removed]",
            "text/plain": [
              "<Figure size 2000x1000 with 1 Axes>"
            ]
          },
          "metadata": {},
          "output_type": "display_data"
        }
      ],
      "source": [
        "plt.figure(figsize=(20,10), facecolor='w')\n",
        "sns.boxplot(data=data)\n",
        "plt.show()"
      ]
    },
    {
      "cell_type": "markdown",
      "metadata": {
        "colab_type": "text",
        "id": "o0oYK7pkVUH0"
      },
      "source": [
        "No Outliers are detected in the dataset."
      ]
    },
    {
      "cell_type": "markdown",
      "metadata": {
        "colab_type": "text",
        "id": "hicssgOshDaB"
      },
      "source": [
        "With missing values, outliers and duplicate values out of the way,\n",
        "the dataset is now ready for EDA."
      ]
    },
    {
      "cell_type": "markdown",
      "metadata": {
        "colab_type": "text",
        "id": "Imlks2_BhSYy"
      },
      "source": [
        "# Exploratory Data Analysis"
      ]
    },
    {
      "cell_type": "code",
      "execution_count": 21,
      "metadata": {
        "colab": {
          "base_uri": "https://localhost:8080/",
          "height": 0
        },
        "colab_type": "code",
        "id": "6-CMyvNUvTI4",
        "outputId": "5f7fbd2e-0a48-4e8f-bed5-eb7d02d3b507"
      },
      "outputs": [
        {
          "data": {
            "text/html": [
              "<div>\n",
              "<style scoped>\n",
              "    .dataframe tbody tr th:only-of-type {\n",
              "        vertical-align: middle;\n",
              "    }\n",
              "\n",
              "    .dataframe tbody tr th {\n",
              "        vertical-align: top;\n",
              "    }\n",
              "\n",
              "    .dataframe thead th {\n",
              "        text-align: right;\n",
              "    }\n",
              "</style>\n",
              "<table border=\"1\" class=\"dataframe\">\n",
              "  <thead>\n",
              "    <tr style=\"text-align: right;\">\n",
              "      <th></th>\n",
              "      <th>credit_score</th>\n",
              "      <th>country</th>\n",
              "      <th>gender</th>\n",
              "      <th>age</th>\n",
              "      <th>tenure</th>\n",
              "      <th>balance</th>\n",
              "      <th>products_number</th>\n",
              "      <th>credit_card</th>\n",
              "      <th>active_member</th>\n",
              "      <th>estimated_salary</th>\n",
              "      <th>churn</th>\n",
              "    </tr>\n",
              "  </thead>\n",
              "  <tbody>\n",
              "    <tr>\n",
              "      <th>count</th>\n",
              "      <td>10000.000000</td>\n",
              "      <td>10000.000000</td>\n",
              "      <td>10000.000000</td>\n",
              "      <td>10000.000000</td>\n",
              "      <td>10000.000000</td>\n",
              "      <td>10000.000000</td>\n",
              "      <td>10000.000000</td>\n",
              "      <td>10000.00000</td>\n",
              "      <td>10000.000000</td>\n",
              "      <td>10000.000000</td>\n",
              "      <td>10000.000000</td>\n",
              "    </tr>\n",
              "    <tr>\n",
              "      <th>mean</th>\n",
              "      <td>650.528800</td>\n",
              "      <td>1.749500</td>\n",
              "      <td>0.454300</td>\n",
              "      <td>38.921800</td>\n",
              "      <td>5.012800</td>\n",
              "      <td>76485.889288</td>\n",
              "      <td>1.530200</td>\n",
              "      <td>0.70550</td>\n",
              "      <td>0.515100</td>\n",
              "      <td>100090.239881</td>\n",
              "      <td>0.203700</td>\n",
              "    </tr>\n",
              "    <tr>\n",
              "      <th>std</th>\n",
              "      <td>96.653299</td>\n",
              "      <td>0.830433</td>\n",
              "      <td>0.497932</td>\n",
              "      <td>10.487806</td>\n",
              "      <td>2.892174</td>\n",
              "      <td>62397.405202</td>\n",
              "      <td>0.581654</td>\n",
              "      <td>0.45584</td>\n",
              "      <td>0.499797</td>\n",
              "      <td>57510.492818</td>\n",
              "      <td>0.402769</td>\n",
              "    </tr>\n",
              "    <tr>\n",
              "      <th>min</th>\n",
              "      <td>350.000000</td>\n",
              "      <td>1.000000</td>\n",
              "      <td>0.000000</td>\n",
              "      <td>18.000000</td>\n",
              "      <td>0.000000</td>\n",
              "      <td>0.000000</td>\n",
              "      <td>1.000000</td>\n",
              "      <td>0.00000</td>\n",
              "      <td>0.000000</td>\n",
              "      <td>11.580000</td>\n",
              "      <td>0.000000</td>\n",
              "    </tr>\n",
              "    <tr>\n",
              "      <th>25%</th>\n",
              "      <td>584.000000</td>\n",
              "      <td>1.000000</td>\n",
              "      <td>0.000000</td>\n",
              "      <td>32.000000</td>\n",
              "      <td>3.000000</td>\n",
              "      <td>0.000000</td>\n",
              "      <td>1.000000</td>\n",
              "      <td>0.00000</td>\n",
              "      <td>0.000000</td>\n",
              "      <td>51002.110000</td>\n",
              "      <td>0.000000</td>\n",
              "    </tr>\n",
              "    <tr>\n",
              "      <th>50%</th>\n",
              "      <td>652.000000</td>\n",
              "      <td>1.000000</td>\n",
              "      <td>0.000000</td>\n",
              "      <td>37.000000</td>\n",
              "      <td>5.000000</td>\n",
              "      <td>97198.540000</td>\n",
              "      <td>1.000000</td>\n",
              "      <td>1.00000</td>\n",
              "      <td>1.000000</td>\n",
              "      <td>100193.915000</td>\n",
              "      <td>0.000000</td>\n",
              "    </tr>\n",
              "    <tr>\n",
              "      <th>75%</th>\n",
              "      <td>718.000000</td>\n",
              "      <td>3.000000</td>\n",
              "      <td>1.000000</td>\n",
              "      <td>44.000000</td>\n",
              "      <td>7.000000</td>\n",
              "      <td>127644.240000</td>\n",
              "      <td>2.000000</td>\n",
              "      <td>1.00000</td>\n",
              "      <td>1.000000</td>\n",
              "      <td>149388.247500</td>\n",
              "      <td>0.000000</td>\n",
              "    </tr>\n",
              "    <tr>\n",
              "      <th>max</th>\n",
              "      <td>850.000000</td>\n",
              "      <td>3.000000</td>\n",
              "      <td>1.000000</td>\n",
              "      <td>92.000000</td>\n",
              "      <td>10.000000</td>\n",
              "      <td>250898.090000</td>\n",
              "      <td>4.000000</td>\n",
              "      <td>1.00000</td>\n",
              "      <td>1.000000</td>\n",
              "      <td>199992.480000</td>\n",
              "      <td>1.000000</td>\n",
              "    </tr>\n",
              "  </tbody>\n",
              "</table>\n",
              "</div>"
            ],
            "text/plain": [
              "       credit_score       country        gender           age        tenure  \\\n",
              "count  10000.000000  10000.000000  10000.000000  10000.000000  10000.000000   \n",
              "mean     650.528800      1.749500      0.454300     38.921800      5.012800   \n",
              "std       96.653299      0.830433      0.497932     10.487806      2.892174   \n",
              "min      350.000000      1.000000      0.000000     18.000000      0.000000   \n",
              "25%      584.000000      1.000000      0.000000     32.000000      3.000000   \n",
              "50%      652.000000      1.000000      0.000000     37.000000      5.000000   \n",
              "75%      718.000000      3.000000      1.000000     44.000000      7.000000   \n",
              "max      850.000000      3.000000      1.000000     92.000000     10.000000   \n",
              "\n",
              "             balance  products_number  credit_card  active_member  \\\n",
              "count   10000.000000     10000.000000  10000.00000   10000.000000   \n",
              "mean    76485.889288         1.530200      0.70550       0.515100   \n",
              "std     62397.405202         0.581654      0.45584       0.499797   \n",
              "min         0.000000         1.000000      0.00000       0.000000   \n",
              "25%         0.000000         1.000000      0.00000       0.000000   \n",
              "50%     97198.540000         1.000000      1.00000       1.000000   \n",
              "75%    127644.240000         2.000000      1.00000       1.000000   \n",
              "max    250898.090000         4.000000      1.00000       1.000000   \n",
              "\n",
              "       estimated_salary         churn  \n",
              "count      10000.000000  10000.000000  \n",
              "mean      100090.239881      0.203700  \n",
              "std        57510.492818      0.402769  \n",
              "min           11.580000      0.000000  \n",
              "25%        51002.110000      0.000000  \n",
              "50%       100193.915000      0.000000  \n",
              "75%       149388.247500      0.000000  \n",
              "max       199992.480000      1.000000  "
            ]
          },
          "execution_count": 21,
          "metadata": {},
          "output_type": "execute_result"
        }
      ],
      "source": [
        "data.describe()"
      ]
    },
    {
      "cell_type": "markdown",
      "metadata": {
        "colab_type": "text",
        "id": "4Q5JGASqOqar"
      },
      "source": [
        "Above, the overall statistical information is displayed\n",
        "* mean, standard deviation and other statistical metrices\n",
        "* the categorical data (converted into discrete numerical values)"
      ]
    },
    {
      "cell_type": "markdown",
      "metadata": {
        "colab_type": "text",
        "id": "3fXeR3tziiMR"
      },
      "source": [
        "# Feature Splitting and Scaling"
      ]
    },
    {
      "cell_type": "code",
      "execution_count": 22,
      "metadata": {
        "colab": {},
        "colab_type": "code",
        "id": "X4noCUHEik9b"
      },
      "outputs": [],
      "source": [
        "y = data['churn']\n",
        "X = data.drop(['churn'], axis=1)\n",
        "train_x, test_x, train_y, test_y = train_test_split(X, y, test_size=0.4, random_state=1)"
      ]
    },
    {
      "cell_type": "markdown",
      "metadata": {
        "colab_type": "text",
        "id": "f4-AsLUtjju3"
      },
      "source": [
        "We divide the dataset into training and test sub-datasets for predictive modeling"
      ]
    },
    {
      "cell_type": "code",
      "execution_count": 23,
      "metadata": {
        "colab": {},
        "colab_type": "code",
        "id": "UV6IdsnPjiNV"
      },
      "outputs": [],
      "source": [
        "scaler = MinMaxScaler()\n",
        "train_x = scaler.fit_transform(train_x)\n",
        "test_x = scaler.transform(test_x)"
      ]
    },
    {
      "cell_type": "markdown",
      "metadata": {
        "colab_type": "text",
        "id": "3o2D6PAalNWQ"
      },
      "source": [
        "# Predictive Modeling"
      ]
    },
    {
      "cell_type": "markdown",
      "metadata": {
        "colab_type": "text",
        "id": "kFa9NRy6lRB-"
      },
      "source": [
        "Logistic Regression"
      ]
    },
    {
      "cell_type": "code",
      "execution_count": 24,
      "metadata": {
        "colab": {
          "base_uri": "https://localhost:8080/",
          "height": 298
        },
        "colab_type": "code",
        "id": "vEKu6uOVkRuf",
        "outputId": "0cb5ed45-4743-4cde-f4f7-7f1ee0918644"
      },
      "outputs": [
        {
          "name": "stdout",
          "output_type": "stream",
          "text": [
            "confusion matrix\n",
            "[[3078   81]\n",
            " [ 673  168]]\n",
            "\n",
            "\n",
            "Accuracy of Logistic Regression: 81.15 \n",
            "\n",
            "              precision    recall  f1-score   support\n",
            "\n",
            "           0       0.82      0.97      0.89      3159\n",
            "           1       0.67      0.20      0.31       841\n",
            "\n",
            "    accuracy                           0.81      4000\n",
            "   macro avg       0.75      0.59      0.60      4000\n",
            "weighted avg       0.79      0.81      0.77      4000\n",
            "\n"
          ]
        }
      ],
      "source": [
        "m1 = 'LogisticRegression'\n",
        "lr = LogisticRegression(random_state=1, max_iter=1000)\n",
        "model = lr.fit(train_x, train_y)\n",
        "lr_predict = lr.predict(test_x)\n",
        "lr_conf_matrix = confusion_matrix(test_y, lr_predict)\n",
        "lr_acc_score = accuracy_score(test_y, lr_predict)\n",
        "print(\"confusion matrix\")\n",
        "print(lr_conf_matrix)\n",
        "print(\"\\n\")\n",
        "print(\"Accuracy of Logistic Regression:\",lr_acc_score*100,'\\n')\n",
        "print(classification_report(test_y,lr_predict))"
      ]
    }
  ],
  "metadata": {
    "colab": {
      "collapsed_sections": [],
      "name": "Heart Disease Prediction.ipynb",
      "provenance": [],
      "toc_visible": true
    },
    "kernelspec": {
      "display_name": "Python 3",
      "name": "python3"
    },
    "language_info": {
      "codemirror_mode": {
        "name": "ipython",
        "version": 3
      },
      "file_extension": ".py",
      "mimetype": "text/x-python",
      "name": "python",
      "nbconvert_exporter": "python",
      "pygments_lexer": "ipython3",
      "version": "3.9.6"
    }
  },
  "nbformat": 4,
  "nbformat_minor": 0
}
